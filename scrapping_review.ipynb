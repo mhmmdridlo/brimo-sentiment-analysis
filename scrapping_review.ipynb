{
 "cells": [
  {
   "cell_type": "markdown",
   "id": "4d0d5a8e",
   "metadata": {},
   "source": [
    "# 🔍 Scraping Brimo Review on Google Play Store"
   ]
  },
  {
   "cell_type": "markdown",
   "id": "3d1f490b",
   "metadata": {},
   "source": [
    "Proses ini dilakukan untuk mengambil ulasan aplikasi Mobile Banking `Brimo` yang ada di Google Play Store. Scraping ini menggunakan library `google-play-scrapper`"
   ]
  },
  {
   "cell_type": "markdown",
   "id": "61c892ea",
   "metadata": {},
   "source": [
    "# 📩 Import Library"
   ]
  },
  {
   "cell_type": "code",
   "execution_count": 2,
   "id": "3e56ed1b",
   "metadata": {},
   "outputs": [
    {
     "name": "stdout",
     "output_type": "stream",
     "text": [
      "library berhasil diimport\n"
     ]
    }
   ],
   "source": [
    "# mengimport library yang dibutuhkan\n",
    "import pandas as pd\n",
    "from google_play_scraper import app, reviews, Sort\n",
    "\n",
    "print('library berhasil diimport')"
   ]
  },
  {
   "cell_type": "markdown",
   "id": "37544193",
   "metadata": {},
   "source": [
    "# 🛠️ Melakukan Scraping"
   ]
  },
  {
   "cell_type": "code",
   "execution_count": 13,
   "id": "09c67e8b",
   "metadata": {},
   "outputs": [
    {
     "name": "stdout",
     "output_type": "stream",
     "text": [
      "500 ulasan diambil dari Google Play\n"
     ]
    }
   ],
   "source": [
    "# melakukan scraping\n",
    "scrapreview, continuation_token = reviews (\n",
    "    'id.co.bri.brimo',      # id aplikasi\n",
    "    lang = 'id',            # bahasa ulasan\n",
    "    country = 'id',         # negara\n",
    "    sort = Sort.NEWEST,     # urutan\n",
    "    count = 500             # jumlah ulasan yang diambil\n",
    ")\n",
    "\n",
    "total_review = len(scrapreview)\n",
    "print(f'{total_review} ulasan diambil dari Google Play')"
   ]
  },
  {
   "cell_type": "code",
   "execution_count": 14,
   "id": "82aedb37",
   "metadata": {},
   "outputs": [
    {
     "name": "stdout",
     "output_type": "stream",
     "text": [
      "data berhasil disimpan di dataframe\n"
     ]
    }
   ],
   "source": [
    "# menyimpan ke dataframe\n",
    "df = pd.DataFrame(scrapreview)\n",
    "\n",
    "print('data berhasil disimpan di dataframe')"
   ]
  },
  {
   "cell_type": "markdown",
   "id": "ef4fec5b",
   "metadata": {},
   "source": [
    "# ✅ Memeriksa Data Hasil Scraping"
   ]
  },
  {
   "cell_type": "code",
   "execution_count": 15,
   "id": "4fe90f1e",
   "metadata": {},
   "outputs": [
    {
     "name": "stdout",
     "output_type": "stream",
     "text": [
      "<class 'pandas.core.frame.DataFrame'>\n",
      "RangeIndex: 500 entries, 0 to 499\n",
      "Data columns (total 11 columns):\n",
      " #   Column                Non-Null Count  Dtype         \n",
      "---  ------                --------------  -----         \n",
      " 0   reviewId              500 non-null    object        \n",
      " 1   userName              500 non-null    object        \n",
      " 2   userImage             500 non-null    object        \n",
      " 3   content               500 non-null    object        \n",
      " 4   score                 500 non-null    int64         \n",
      " 5   thumbsUpCount         500 non-null    int64         \n",
      " 6   reviewCreatedVersion  419 non-null    object        \n",
      " 7   at                    500 non-null    datetime64[ns]\n",
      " 8   replyContent          497 non-null    object        \n",
      " 9   repliedAt             497 non-null    datetime64[ns]\n",
      " 10  appVersion            419 non-null    object        \n",
      "dtypes: datetime64[ns](2), int64(2), object(7)\n",
      "memory usage: 43.1+ KB\n"
     ]
    }
   ],
   "source": [
    "# melihat informasi data\n",
    "df.info()"
   ]
  },
  {
   "cell_type": "code",
   "execution_count": 21,
   "id": "80143b9e",
   "metadata": {},
   "outputs": [
    {
     "data": {
      "text/plain": [
       "(500, 11)"
      ]
     },
     "execution_count": 21,
     "metadata": {},
     "output_type": "execute_result"
    }
   ],
   "source": [
    "# melihat jumlah entry data & kolom\n",
    "df.shape"
   ]
  },
  {
   "cell_type": "code",
   "execution_count": 18,
   "id": "3cf77f3a",
   "metadata": {},
   "outputs": [
    {
     "data": {
      "text/html": [
       "<div>\n",
       "<style scoped>\n",
       "    .dataframe tbody tr th:only-of-type {\n",
       "        vertical-align: middle;\n",
       "    }\n",
       "\n",
       "    .dataframe tbody tr th {\n",
       "        vertical-align: top;\n",
       "    }\n",
       "\n",
       "    .dataframe thead th {\n",
       "        text-align: right;\n",
       "    }\n",
       "</style>\n",
       "<table border=\"1\" class=\"dataframe\">\n",
       "  <thead>\n",
       "    <tr style=\"text-align: right;\">\n",
       "      <th></th>\n",
       "      <th>reviewId</th>\n",
       "      <th>userName</th>\n",
       "      <th>userImage</th>\n",
       "      <th>content</th>\n",
       "      <th>score</th>\n",
       "      <th>thumbsUpCount</th>\n",
       "      <th>reviewCreatedVersion</th>\n",
       "      <th>at</th>\n",
       "      <th>replyContent</th>\n",
       "      <th>repliedAt</th>\n",
       "      <th>appVersion</th>\n",
       "    </tr>\n",
       "  </thead>\n",
       "  <tbody>\n",
       "    <tr>\n",
       "      <th>0</th>\n",
       "      <td>ebab940b-b44f-463a-a19c-d7c03d441c66</td>\n",
       "      <td>Among 526</td>\n",
       "      <td>https://play-lh.googleusercontent.com/a/ACg8oc...</td>\n",
       "      <td>kak tolong perbaiki lagi aplikasi BRIMO nya ma...</td>\n",
       "      <td>3</td>\n",
       "      <td>0</td>\n",
       "      <td>None</td>\n",
       "      <td>2025-07-28 06:07:00</td>\n",
       "      <td>Hai Sobat BRI, mohon maaf atas ketidaknyamanan...</td>\n",
       "      <td>2025-07-28 06:26:22</td>\n",
       "      <td>None</td>\n",
       "    </tr>\n",
       "    <tr>\n",
       "      <th>1</th>\n",
       "      <td>c31b481c-0907-4b0f-a5f2-4508f0feac3f</td>\n",
       "      <td>Suryana 91</td>\n",
       "      <td>https://play-lh.googleusercontent.com/a-/ALV-U...</td>\n",
       "      <td>sangat sangat membantu sekali</td>\n",
       "      <td>5</td>\n",
       "      <td>0</td>\n",
       "      <td>2.85.0</td>\n",
       "      <td>2025-07-28 06:05:15</td>\n",
       "      <td>Terima kasih sudah menggunakan aplikasi BRImo ...</td>\n",
       "      <td>2025-07-28 06:26:10</td>\n",
       "      <td>2.85.0</td>\n",
       "    </tr>\n",
       "    <tr>\n",
       "      <th>2</th>\n",
       "      <td>72d3b252-d5fd-4b67-8ca4-8e9fa47fbd19</td>\n",
       "      <td>Rihatun Rihatun</td>\n",
       "      <td>https://play-lh.googleusercontent.com/a/ACg8oc...</td>\n",
       "      <td>baik sekali</td>\n",
       "      <td>5</td>\n",
       "      <td>0</td>\n",
       "      <td>None</td>\n",
       "      <td>2025-07-28 05:44:25</td>\n",
       "      <td>Hai Sobat BRI, terima kasih atas ulasannya. Se...</td>\n",
       "      <td>2025-07-28 06:02:14</td>\n",
       "      <td>None</td>\n",
       "    </tr>\n",
       "    <tr>\n",
       "      <th>3</th>\n",
       "      <td>d4dcd298-06b4-47c0-8b7b-18d616286708</td>\n",
       "      <td>Adel lia</td>\n",
       "      <td>https://play-lh.googleusercontent.com/a/ACg8oc...</td>\n",
       "      <td>mantap amlikasi Bromo bisa di andal kan</td>\n",
       "      <td>5</td>\n",
       "      <td>0</td>\n",
       "      <td>2.83.0</td>\n",
       "      <td>2025-07-28 05:33:36</td>\n",
       "      <td>Hai Sobat BRI, terima kasih atas ulasannya. Se...</td>\n",
       "      <td>2025-07-28 06:01:57</td>\n",
       "      <td>2.83.0</td>\n",
       "    </tr>\n",
       "    <tr>\n",
       "      <th>4</th>\n",
       "      <td>e4e59238-8105-4c31-b145-eb6161d884e0</td>\n",
       "      <td>Info Virall</td>\n",
       "      <td>https://play-lh.googleusercontent.com/a-/ALV-U...</td>\n",
       "      <td>sudah 2 minggu rekening saya dibekukan, kenapa...</td>\n",
       "      <td>3</td>\n",
       "      <td>0</td>\n",
       "      <td>2.85.0</td>\n",
       "      <td>2025-07-28 05:02:47</td>\n",
       "      <td>Hai Sobat BRI, mohon maaf atas kendala yang di...</td>\n",
       "      <td>2025-07-28 05:30:42</td>\n",
       "      <td>2.85.0</td>\n",
       "    </tr>\n",
       "  </tbody>\n",
       "</table>\n",
       "</div>"
      ],
      "text/plain": [
       "                               reviewId         userName  \\\n",
       "0  ebab940b-b44f-463a-a19c-d7c03d441c66        Among 526   \n",
       "1  c31b481c-0907-4b0f-a5f2-4508f0feac3f       Suryana 91   \n",
       "2  72d3b252-d5fd-4b67-8ca4-8e9fa47fbd19  Rihatun Rihatun   \n",
       "3  d4dcd298-06b4-47c0-8b7b-18d616286708         Adel lia   \n",
       "4  e4e59238-8105-4c31-b145-eb6161d884e0      Info Virall   \n",
       "\n",
       "                                           userImage  \\\n",
       "0  https://play-lh.googleusercontent.com/a/ACg8oc...   \n",
       "1  https://play-lh.googleusercontent.com/a-/ALV-U...   \n",
       "2  https://play-lh.googleusercontent.com/a/ACg8oc...   \n",
       "3  https://play-lh.googleusercontent.com/a/ACg8oc...   \n",
       "4  https://play-lh.googleusercontent.com/a-/ALV-U...   \n",
       "\n",
       "                                             content  score  thumbsUpCount  \\\n",
       "0  kak tolong perbaiki lagi aplikasi BRIMO nya ma...      3              0   \n",
       "1                      sangat sangat membantu sekali      5              0   \n",
       "2                                        baik sekali      5              0   \n",
       "3            mantap amlikasi Bromo bisa di andal kan      5              0   \n",
       "4  sudah 2 minggu rekening saya dibekukan, kenapa...      3              0   \n",
       "\n",
       "  reviewCreatedVersion                  at  \\\n",
       "0                 None 2025-07-28 06:07:00   \n",
       "1               2.85.0 2025-07-28 06:05:15   \n",
       "2                 None 2025-07-28 05:44:25   \n",
       "3               2.83.0 2025-07-28 05:33:36   \n",
       "4               2.85.0 2025-07-28 05:02:47   \n",
       "\n",
       "                                        replyContent           repliedAt  \\\n",
       "0  Hai Sobat BRI, mohon maaf atas ketidaknyamanan... 2025-07-28 06:26:22   \n",
       "1  Terima kasih sudah menggunakan aplikasi BRImo ... 2025-07-28 06:26:10   \n",
       "2  Hai Sobat BRI, terima kasih atas ulasannya. Se... 2025-07-28 06:02:14   \n",
       "3  Hai Sobat BRI, terima kasih atas ulasannya. Se... 2025-07-28 06:01:57   \n",
       "4  Hai Sobat BRI, mohon maaf atas kendala yang di... 2025-07-28 05:30:42   \n",
       "\n",
       "  appVersion  \n",
       "0       None  \n",
       "1     2.85.0  \n",
       "2       None  \n",
       "3     2.83.0  \n",
       "4     2.85.0  "
      ]
     },
     "execution_count": 18,
     "metadata": {},
     "output_type": "execute_result"
    }
   ],
   "source": [
    "# melihat 5 baris pertama\n",
    "df.head()"
   ]
  },
  {
   "cell_type": "code",
   "execution_count": 19,
   "id": "4eb24fb2",
   "metadata": {},
   "outputs": [
    {
     "data": {
      "text/html": [
       "<div>\n",
       "<style scoped>\n",
       "    .dataframe tbody tr th:only-of-type {\n",
       "        vertical-align: middle;\n",
       "    }\n",
       "\n",
       "    .dataframe tbody tr th {\n",
       "        vertical-align: top;\n",
       "    }\n",
       "\n",
       "    .dataframe thead th {\n",
       "        text-align: right;\n",
       "    }\n",
       "</style>\n",
       "<table border=\"1\" class=\"dataframe\">\n",
       "  <thead>\n",
       "    <tr style=\"text-align: right;\">\n",
       "      <th></th>\n",
       "      <th>reviewId</th>\n",
       "      <th>userName</th>\n",
       "      <th>userImage</th>\n",
       "      <th>content</th>\n",
       "      <th>score</th>\n",
       "      <th>thumbsUpCount</th>\n",
       "      <th>reviewCreatedVersion</th>\n",
       "      <th>at</th>\n",
       "      <th>replyContent</th>\n",
       "      <th>repliedAt</th>\n",
       "      <th>appVersion</th>\n",
       "    </tr>\n",
       "  </thead>\n",
       "  <tbody>\n",
       "    <tr>\n",
       "      <th>498</th>\n",
       "      <td>362985bd-3445-4567-ae11-7bfd86094506</td>\n",
       "      <td>Ayuu Wandira</td>\n",
       "      <td>https://play-lh.googleusercontent.com/a/ACg8oc...</td>\n",
       "      <td>kenapa dari brimo tidak bisa tarik tunai?</td>\n",
       "      <td>5</td>\n",
       "      <td>0</td>\n",
       "      <td>None</td>\n",
       "      <td>2025-07-26 11:19:40</td>\n",
       "      <td>Terima kasih sudah menggunakan aplikasi BRImo ...</td>\n",
       "      <td>2025-07-26 11:41:16</td>\n",
       "      <td>None</td>\n",
       "    </tr>\n",
       "    <tr>\n",
       "      <th>411</th>\n",
       "      <td>abe8c391-1b54-4a4d-87c7-be8ac035cbcc</td>\n",
       "      <td>Ahmad Ghozali</td>\n",
       "      <td>https://play-lh.googleusercontent.com/a/ACg8oc...</td>\n",
       "      <td>bagus memuaskan</td>\n",
       "      <td>5</td>\n",
       "      <td>0</td>\n",
       "      <td>2.85.0</td>\n",
       "      <td>2025-07-26 17:00:07</td>\n",
       "      <td>Hai Sobat BRI, terima kasih sudah menggunakan ...</td>\n",
       "      <td>2025-07-26 17:29:10</td>\n",
       "      <td>2.85.0</td>\n",
       "    </tr>\n",
       "    <tr>\n",
       "      <th>419</th>\n",
       "      <td>b18643c7-45e2-4129-a884-27a902e2e996</td>\n",
       "      <td>Yudha Stm</td>\n",
       "      <td>https://play-lh.googleusercontent.com/a-/ALV-U...</td>\n",
       "      <td>Terimakasih, sangat membantu, mudah cepat dan ...</td>\n",
       "      <td>5</td>\n",
       "      <td>0</td>\n",
       "      <td>2.85.0</td>\n",
       "      <td>2025-07-26 16:34:57</td>\n",
       "      <td>Hai Sobat BRI, terima kasih sudah menggunakan ...</td>\n",
       "      <td>2025-07-26 16:57:29</td>\n",
       "      <td>2.85.0</td>\n",
       "    </tr>\n",
       "    <tr>\n",
       "      <th>371</th>\n",
       "      <td>c950823f-0db7-47f4-9bac-d5b924d07c9d</td>\n",
       "      <td>Suhardi Saban</td>\n",
       "      <td>https://play-lh.googleusercontent.com/a-/ALV-U...</td>\n",
       "      <td>tercepat</td>\n",
       "      <td>5</td>\n",
       "      <td>0</td>\n",
       "      <td>2.85.0</td>\n",
       "      <td>2025-07-26 19:16:32</td>\n",
       "      <td>Hai Sobat BRI, terima kasih sudah menggunakan ...</td>\n",
       "      <td>2025-07-26 19:57:32</td>\n",
       "      <td>2.85.0</td>\n",
       "    </tr>\n",
       "    <tr>\n",
       "      <th>492</th>\n",
       "      <td>fbfa3f5e-b508-4cd1-800c-4968ef4cad03</td>\n",
       "      <td>David Andalas</td>\n",
       "      <td>https://play-lh.googleusercontent.com/a/ACg8oc...</td>\n",
       "      <td>saya ada pengajuan pinjaman briguna, dan saya ...</td>\n",
       "      <td>1</td>\n",
       "      <td>0</td>\n",
       "      <td>2.67.0</td>\n",
       "      <td>2025-07-26 11:40:22</td>\n",
       "      <td>Hai Sobat BRI, mohon maaf atas kendala saldo t...</td>\n",
       "      <td>2025-07-26 12:10:59</td>\n",
       "      <td>2.67.0</td>\n",
       "    </tr>\n",
       "  </tbody>\n",
       "</table>\n",
       "</div>"
      ],
      "text/plain": [
       "                                 reviewId       userName  \\\n",
       "498  362985bd-3445-4567-ae11-7bfd86094506   Ayuu Wandira   \n",
       "411  abe8c391-1b54-4a4d-87c7-be8ac035cbcc  Ahmad Ghozali   \n",
       "419  b18643c7-45e2-4129-a884-27a902e2e996      Yudha Stm   \n",
       "371  c950823f-0db7-47f4-9bac-d5b924d07c9d  Suhardi Saban   \n",
       "492  fbfa3f5e-b508-4cd1-800c-4968ef4cad03  David Andalas   \n",
       "\n",
       "                                             userImage  \\\n",
       "498  https://play-lh.googleusercontent.com/a/ACg8oc...   \n",
       "411  https://play-lh.googleusercontent.com/a/ACg8oc...   \n",
       "419  https://play-lh.googleusercontent.com/a-/ALV-U...   \n",
       "371  https://play-lh.googleusercontent.com/a-/ALV-U...   \n",
       "492  https://play-lh.googleusercontent.com/a/ACg8oc...   \n",
       "\n",
       "                                               content  score  thumbsUpCount  \\\n",
       "498          kenapa dari brimo tidak bisa tarik tunai?      5              0   \n",
       "411                                    bagus memuaskan      5              0   \n",
       "419  Terimakasih, sangat membantu, mudah cepat dan ...      5              0   \n",
       "371                                           tercepat      5              0   \n",
       "492  saya ada pengajuan pinjaman briguna, dan saya ...      1              0   \n",
       "\n",
       "    reviewCreatedVersion                  at  \\\n",
       "498                 None 2025-07-26 11:19:40   \n",
       "411               2.85.0 2025-07-26 17:00:07   \n",
       "419               2.85.0 2025-07-26 16:34:57   \n",
       "371               2.85.0 2025-07-26 19:16:32   \n",
       "492               2.67.0 2025-07-26 11:40:22   \n",
       "\n",
       "                                          replyContent           repliedAt  \\\n",
       "498  Terima kasih sudah menggunakan aplikasi BRImo ... 2025-07-26 11:41:16   \n",
       "411  Hai Sobat BRI, terima kasih sudah menggunakan ... 2025-07-26 17:29:10   \n",
       "419  Hai Sobat BRI, terima kasih sudah menggunakan ... 2025-07-26 16:57:29   \n",
       "371  Hai Sobat BRI, terima kasih sudah menggunakan ... 2025-07-26 19:57:32   \n",
       "492  Hai Sobat BRI, mohon maaf atas kendala saldo t... 2025-07-26 12:10:59   \n",
       "\n",
       "    appVersion  \n",
       "498       None  \n",
       "411     2.85.0  \n",
       "419     2.85.0  \n",
       "371     2.85.0  \n",
       "492     2.67.0  "
      ]
     },
     "execution_count": 19,
     "metadata": {},
     "output_type": "execute_result"
    }
   ],
   "source": [
    "# melihat 5 sample data\n",
    "df.sample(5)"
   ]
  },
  {
   "cell_type": "markdown",
   "id": "200e7921",
   "metadata": {},
   "source": [
    "# 🎯Conclusion"
   ]
  },
  {
   "cell_type": "markdown",
   "id": "07f2acbf",
   "metadata": {},
   "source": [
    "**Jumlah Data & Kolom**\n",
    "\n",
    "- Dataset ini berisi data sebanyak `500 entry` ulasan aplikasi Brimo.\n",
    "- Dataset ini memiliki jumlah kolom sebanyak `11 kolom`\n",
    "\n",
    "**Missing Value**\n",
    "\n",
    "- Terdapat beberapa kolom yang memiliki missing value, diantaranya `reviewCreatedVersion`, `replyContent`, `repliedAt`, `appVersion`          "
   ]
  },
  {
   "cell_type": "markdown",
   "id": "8398db65",
   "metadata": {},
   "source": [
    "# 💾 Menyimpan Hasil Scraping ke CSV"
   ]
  },
  {
   "cell_type": "code",
   "execution_count": 22,
   "id": "5498b2e9",
   "metadata": {},
   "outputs": [
    {
     "name": "stdout",
     "output_type": "stream",
     "text": [
      "dataset berhasil disimpan dalam format .csv\n"
     ]
    }
   ],
   "source": [
    "# menyimpan dataset ke format csv\n",
    "df.to_csv('review_brimo.csv', index=False)\n",
    "\n",
    "print('dataset berhasil disimpan dalam format .csv')"
   ]
  }
 ],
 "metadata": {
  "kernelspec": {
   "display_name": "python-ml",
   "language": "python",
   "name": "python3"
  },
  "language_info": {
   "codemirror_mode": {
    "name": "ipython",
    "version": 3
   },
   "file_extension": ".py",
   "mimetype": "text/x-python",
   "name": "python",
   "nbconvert_exporter": "python",
   "pygments_lexer": "ipython3",
   "version": "3.9.23"
  }
 },
 "nbformat": 4,
 "nbformat_minor": 5
}
